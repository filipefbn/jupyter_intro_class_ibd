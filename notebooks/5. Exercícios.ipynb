{
  "nbformat": 4,
  "nbformat_minor": 0,
  "metadata": {
    "colab": {
      "name": "Exercícios.ipynb",
      "version": "0.3.2",
      "provenance": [],
      "collapsed_sections": [
        "E9wEfW3Jhwwn",
        "iwq53zOoh4k_",
        "oMJFmiF0h-kn",
        "YERvUJE_iAmG",
        "lM1J09sljesZ",
        "lw6T2QCFiFTH",
        "PmljyiyZiLrJ",
        "7rPO7eAJiUAB",
        "t1qoD0jyiXeZ"
      ]
    },
    "kernelspec": {
      "display_name": "Python 3",
      "language": "python",
      "name": "python3"
    },
    "language_info": {
      "codemirror_mode": {
        "name": "ipython",
        "version": 3
      },
      "file_extension": ".py",
      "mimetype": "text/x-python",
      "name": "python",
      "nbconvert_exporter": "python",
      "pygments_lexer": "ipython3",
      "version": "3.6.8"
    }
  },
  "cells": [
    {
      "cell_type": "code",
      "metadata": {
        "colab_type": "code",
        "id": "T69J2DS2gNwz",
        "colab": {}
      },
      "source": [
        "import sqlite3\n",
        "import pandas as pd"
      ],
      "execution_count": 0,
      "outputs": []
    },
    {
      "cell_type": "markdown",
      "metadata": {
        "colab_type": "text",
        "id": "t1qoD0jyiXeZ"
      },
      "source": [
        "## Exercícios"
      ]
    },
    {
      "cell_type": "markdown",
      "metadata": {
        "colab_type": "text",
        "id": "qepRTEmHlnkP"
      },
      "source": [
        "![alt text](http://www.sqlitetutorial.net/wp-content/uploads/2015/11/sqlite-sample-database-color.jpg)"
      ]
    },
    {
      "cell_type": "markdown",
      "metadata": {
        "colab_type": "text",
        "id": "xygkESJ_l1iU"
      },
      "source": [
        "### There are 11 tables in the chinook sample database.\n",
        "\n",
        "*  `employees` table stores employees data, such as employee id, last name, first name, etc. It also has a field named `ReportsTo` to specify who reports to whom.\n",
        "\n",
        "*  `customers` table stores customers data.\n",
        "\n",
        "*  `invoices` & `invoice_items` tables: these two tables store invoice data. The `invoices` table stores invoice header data and the `invoice_items` table stores the invoice line items data.\n",
        "\n",
        "*  `artists` table stores artists data. It is a simple table that contains only artist id and name.\n",
        "\n",
        "*  `albums` table stores data about a list of tracks. Each album belongs to one artist. However, one artist may have multiple albums.\n",
        "\n",
        "*  `media_types` table stores media types such as MPEG audio and AAC audio file.\n",
        "\n",
        "*  `genres` table stores music types such as rock, jazz, metal, etc.\n",
        "\n",
        "*  `tracks` table store the data of songs. Each track belongs to one album.\n",
        "\n",
        "*  `playlists` & `playlist_track` tables: `playlists` table store data about playlists. Each playlist contains a list of tracks. Each track may belong to multiple playlists. The relationship between the `playlists` table and `tracks` table is many-to-many. The `playlist_track` table is used to reflect this relationship."
      ]
    },
    {
      "cell_type": "markdown",
      "metadata": {
        "id": "kXFG4HtowjDG",
        "colab_type": "text"
      },
      "source": [
        "### Download do chinook sample database "
      ]
    },
    {
      "cell_type": "code",
      "metadata": {
        "colab_type": "code",
        "id": "9TKHrWTwibC2",
        "outputId": "5cc9c354-1cf5-4a65-9b40-ac5d2f82c3e7",
        "colab": {
          "base_uri": "https://localhost:8080/",
          "height": 290
        }
      },
      "source": [
        "!wget http://www.sqlitetutorial.net/wp-content/uploads/2018/03/chinook.zip"
      ],
      "execution_count": 3,
      "outputs": [
        {
          "output_type": "stream",
          "text": [
            "--2019-09-16 11:32:57--  http://www.sqlitetutorial.net/wp-content/uploads/2018/03/chinook.zip\n",
            "Resolving www.sqlitetutorial.net (www.sqlitetutorial.net)... 108.179.201.93\n",
            "Connecting to www.sqlitetutorial.net (www.sqlitetutorial.net)|108.179.201.93|:80... connected.\n",
            "HTTP request sent, awaiting response... 301 Moved Permanently\n",
            "Location: https://www.sqlitetutorial.net/wp-content/uploads/2018/03/chinook.zip [following]\n",
            "--2019-09-16 11:32:57--  https://www.sqlitetutorial.net/wp-content/uploads/2018/03/chinook.zip\n",
            "Connecting to www.sqlitetutorial.net (www.sqlitetutorial.net)|108.179.201.93|:443... connected.\n",
            "HTTP request sent, awaiting response... 200 OK\n",
            "Length: 305596 (298K) [application/zip]\n",
            "Saving to: ‘chinook.zip’\n",
            "\n",
            "chinook.zip         100%[===================>] 298.43K   874KB/s    in 0.3s    \n",
            "\n",
            "2019-09-16 11:32:58 (874 KB/s) - ‘chinook.zip’ saved [305596/305596]\n",
            "\n"
          ],
          "name": "stdout"
        }
      ]
    },
    {
      "cell_type": "code",
      "metadata": {
        "colab_type": "code",
        "id": "tb80G_nQlsjj",
        "outputId": "3cd47be0-5b92-4db5-e861-b61ba5aacaa9",
        "colab": {
          "base_uri": "https://localhost:8080/",
          "height": 54
        }
      },
      "source": [
        "!unzip chinook.zip"
      ],
      "execution_count": 4,
      "outputs": [
        {
          "output_type": "stream",
          "text": [
            "Archive:  chinook.zip\n",
            "  inflating: chinook.db              \n"
          ],
          "name": "stdout"
        }
      ]
    },
    {
      "cell_type": "markdown",
      "metadata": {
        "id": "x-oKUUU5w0Su",
        "colab_type": "text"
      },
      "source": [
        "### Carregando os dados"
      ]
    },
    {
      "cell_type": "code",
      "metadata": {
        "colab_type": "code",
        "id": "6WhLdsdBmNc7",
        "colab": {}
      },
      "source": [
        "conn = sqlite3.connect('chinook.db')\n",
        "cursor = conn.cursor()"
      ],
      "execution_count": 0,
      "outputs": []
    },
    {
      "cell_type": "markdown",
      "metadata": {
        "id": "oVFJ2N2pwjDP",
        "colab_type": "text"
      },
      "source": [
        "## Consultas"
      ]
    },
    {
      "cell_type": "markdown",
      "metadata": {
        "id": "AwguIkD0wjDQ",
        "colab_type": "text"
      },
      "source": [
        "### 1. Sobrenome do gerente que possui mais funcionários que reportam a ele"
      ]
    },
    {
      "cell_type": "code",
      "metadata": {
        "id": "lodPlGRM2iu4",
        "colab_type": "code",
        "colab": {}
      },
      "source": [
        ""
      ],
      "execution_count": 0,
      "outputs": []
    },
    {
      "cell_type": "markdown",
      "metadata": {
        "id": "_OS_GmxFwjDT",
        "colab_type": "text"
      },
      "source": [
        "### 2. Gênero com maior quantidade de músicas"
      ]
    },
    {
      "cell_type": "code",
      "metadata": {
        "id": "E5CkjVHpwjDT",
        "colab_type": "code",
        "colab": {}
      },
      "source": [
        ""
      ],
      "execution_count": 0,
      "outputs": []
    },
    {
      "cell_type": "markdown",
      "metadata": {
        "id": "9Ma0HxOmwjDV",
        "colab_type": "text"
      },
      "source": [
        "### 3. Nome do cliente com maior consumo na loja\n"
      ]
    },
    {
      "cell_type": "code",
      "metadata": {
        "colab_type": "code",
        "id": "rdWKsj5iMkQO",
        "colab": {}
      },
      "source": [
        ""
      ],
      "execution_count": 0,
      "outputs": []
    },
    {
      "cell_type": "markdown",
      "metadata": {
        "id": "3VIRdovqwjDY",
        "colab_type": "text"
      },
      "source": [
        "### 4. Nome e duração (em minutos) da playlist de maior duração"
      ]
    },
    {
      "cell_type": "code",
      "metadata": {
        "id": "J26cCsOawjDZ",
        "colab_type": "code",
        "colab": {}
      },
      "source": [
        ""
      ],
      "execution_count": 0,
      "outputs": []
    },
    {
      "cell_type": "markdown",
      "metadata": {
        "id": "IH6jWfwKwjDd",
        "colab_type": "text"
      },
      "source": [
        "### 5. Nome do artista do gênero ROCK que possui mais músicas incluídas em playlists"
      ]
    },
    {
      "cell_type": "code",
      "metadata": {
        "colab_type": "code",
        "id": "gemDJY3tmSKr",
        "colab": {}
      },
      "source": [
        ""
      ],
      "execution_count": 0,
      "outputs": []
    }
  ]
}