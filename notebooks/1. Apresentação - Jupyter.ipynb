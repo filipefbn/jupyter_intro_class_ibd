{
  "nbformat": 4,
  "nbformat_minor": 0,
  "metadata": {
    "kernelspec": {
      "display_name": "Python 3",
      "language": "python",
      "name": "python3"
    },
    "language_info": {
      "codemirror_mode": {
        "name": "ipython",
        "version": 3
      },
      "file_extension": ".py",
      "mimetype": "text/x-python",
      "name": "python",
      "nbconvert_exporter": "python",
      "pygments_lexer": "ipython3",
      "version": "3.7.1"
    },
    "colab": {
      "name": "1. Apresentação - Jupyter.ipynb",
      "version": "0.3.2",
      "provenance": []
    }
  },
  "cells": [
    {
      "cell_type": "markdown",
      "metadata": {
        "id": "rSPXRMA2sAes",
        "colab_type": "text"
      },
      "source": [
        "## Apresentação Jupyter"
      ]
    },
    {
      "cell_type": "markdown",
      "metadata": {
        "id": "YHSdex0IsAew",
        "colab_type": "text"
      },
      "source": [
        "O Jupyter Notebook é um aplicativo da Web de código aberto que permite criar e compartilhar documentos que contêm código ativo, equações, visualizações e texto narrativo. Os usos incluem: limpeza e transformação de dados, simulação numérica, modelagem estatística, visualização de dados, aprendizado de máquina e muito mais.\n",
        "\n",
        "* Projeto Jupyter: https://jupyter.org/\n",
        "* Documentação: https://jupyter-notebook.readthedocs.io/en/stable/\n",
        "\n",
        "![image.png](attachment:image.png)\n",
        "\n",
        "Para download e instalação do Jupyter Notebook, o meio mais indicado é através da distribuição [Anaconda](https://www.anaconda.com/download/).\n",
        "\n",
        "Existem diversos tutoriais disponíveis para o Jupyter:\n",
        "\n",
        "* https://www.datacamp.com/community/tutorials/tutorial-jupyter-notebook\n",
        "* http://maxmelnick.com/2016/04/19/python-beginner-tips-and-tricks.html\n",
        "* https://www.dataquest.io/blog/jupyter-notebook-tutorial/\n",
        "\n",
        "Atalhos do Jupyter: https://www.dataquest.io/blog/jupyter-notebook-tips-tricks-shortcuts/\n",
        "\n",
        "Blocos de texto e documentações podem ser inseridos no Jupyter como markdown, veja mais opções de formatação [aqui](https://support.zendesk.com/hc/pt-br/articles/203691016-Formata%C3%A7%C3%A3o-de-texto-com-Markdown)."
      ]
    },
    {
      "cell_type": "code",
      "metadata": {
        "id": "X2PkBgvIsAex",
        "colab_type": "code",
        "colab": {}
      },
      "source": [
        "import numpy as np\n",
        "import pandas as pd\n",
        "import os\n",
        "import matplotlib.pyplot as plt\n",
        "\n",
        "plt.style.use('ggplot')"
      ],
      "execution_count": 0,
      "outputs": []
    },
    {
      "cell_type": "code",
      "metadata": {
        "id": "v6E1WFfYsEn_",
        "colab_type": "code",
        "colab": {
          "base_uri": "https://localhost:8080/",
          "height": 149
        },
        "outputId": "60627aae-4fe9-4882-8ecd-5886e8a15a4e"
      },
      "source": [
        "<p><img alt=\"Colaboratory logo\" height=\"5px\" src=\"https://colab.research.google.com/img/colab_favicon.ico\" align=\"left\" hspace=\"10px\" vspace=\"0px\"></p>\n",
        "\n",
        "\n",
        "\n",
        "O Colab permite que você escreva e execute **Python** (por enquanto não tem suporte a outras linguagens) no seu browser, com as seguintes vantagens:\n",
        "- Acesso grátis a GPUs\n",
        "- Sem necessidade de configuração prévia\n",
        "- Facilidade de compartilhamento\n",
        "\n",
        "Para mais informações: [Introduction to Colab](https://www.youtube.com/watch?v=inN8seMm7UI)."
      ],
      "execution_count": 1,
      "outputs": [
        {
          "output_type": "error",
          "ename": "SyntaxError",
          "evalue": "ignored",
          "traceback": [
            "\u001b[0;36m  File \u001b[0;32m\"<ipython-input-1-f00c82388a60>\"\u001b[0;36m, line \u001b[0;32m1\u001b[0m\n\u001b[0;31m    <p><img alt=\"Colaboratory logo\" height=\"5px\" src=\"https://colab.research.google.com/img/colab_favicon.ico\" align=\"left\" hspace=\"10px\" vspace=\"0px\"></p>\u001b[0m\n\u001b[0m    ^\u001b[0m\n\u001b[0;31mSyntaxError\u001b[0m\u001b[0;31m:\u001b[0m invalid syntax\n"
          ]
        }
      ]
    },
    {
      "cell_type": "markdown",
      "metadata": {
        "id": "6RscqqcssL4u",
        "colab_type": "text"
      },
      "source": [
        "<p><img alt=\"Colaboratory logo\" height=\"5px\" src=\"https://colab.research.google.com/img/colab_favicon.ico\" align=\"left\" hspace=\"10px\" vspace=\"0px\"></p>\n",
        "\n",
        "\n",
        "\n",
        "O Colab permite que você escreva e execute **Python** (por enquanto não tem suporte a outras linguagens) no seu browser, com as seguintes vantagens:\n",
        "- Acesso grátis a GPUs\n",
        "- Sem necessidade de configuração prévia\n",
        "- Facilidade de compartilhamento\n",
        "\n",
        "Para mais informações: [Introduction to Colab](https://www.youtube.com/watch?v=inN8seMm7UI)."
      ]
    },
    {
      "cell_type": "markdown",
      "metadata": {
        "id": "BZSM9bWOsAe1",
        "colab_type": "text"
      },
      "source": [
        "### Vetores e tabelas de dados"
      ]
    },
    {
      "cell_type": "code",
      "metadata": {
        "id": "a39o6QSFsAe2",
        "colab_type": "code",
        "colab": {},
        "outputId": "08d3d3e0-5a0a-4fbd-8776-3156309b4eb1"
      },
      "source": [
        "v = np.arange(1,16)\n",
        "v"
      ],
      "execution_count": 0,
      "outputs": [
        {
          "output_type": "execute_result",
          "data": {
            "text/plain": [
              "array([ 1,  2,  3,  4,  5,  6,  7,  8,  9, 10, 11, 12, 13, 14, 15])"
            ]
          },
          "metadata": {
            "tags": []
          },
          "execution_count": 2
        }
      ]
    },
    {
      "cell_type": "code",
      "metadata": {
        "id": "RbJNJss_sAe6",
        "colab_type": "code",
        "colab": {},
        "outputId": "b7bfc7b0-8f60-4774-9102-3539503ac9a6"
      },
      "source": [
        "df = pd.DataFrame(v.reshape(3,5), columns=['A', 'B', 'C', 'D', 'E'])\n",
        "df"
      ],
      "execution_count": 0,
      "outputs": [
        {
          "output_type": "execute_result",
          "data": {
            "text/html": [
              "<div>\n",
              "<style scoped>\n",
              "    .dataframe tbody tr th:only-of-type {\n",
              "        vertical-align: middle;\n",
              "    }\n",
              "\n",
              "    .dataframe tbody tr th {\n",
              "        vertical-align: top;\n",
              "    }\n",
              "\n",
              "    .dataframe thead th {\n",
              "        text-align: right;\n",
              "    }\n",
              "</style>\n",
              "<table border=\"1\" class=\"dataframe\">\n",
              "  <thead>\n",
              "    <tr style=\"text-align: right;\">\n",
              "      <th></th>\n",
              "      <th>A</th>\n",
              "      <th>B</th>\n",
              "      <th>C</th>\n",
              "      <th>D</th>\n",
              "      <th>E</th>\n",
              "    </tr>\n",
              "  </thead>\n",
              "  <tbody>\n",
              "    <tr>\n",
              "      <th>0</th>\n",
              "      <td>1</td>\n",
              "      <td>2</td>\n",
              "      <td>3</td>\n",
              "      <td>4</td>\n",
              "      <td>5</td>\n",
              "    </tr>\n",
              "    <tr>\n",
              "      <th>1</th>\n",
              "      <td>6</td>\n",
              "      <td>7</td>\n",
              "      <td>8</td>\n",
              "      <td>9</td>\n",
              "      <td>10</td>\n",
              "    </tr>\n",
              "    <tr>\n",
              "      <th>2</th>\n",
              "      <td>11</td>\n",
              "      <td>12</td>\n",
              "      <td>13</td>\n",
              "      <td>14</td>\n",
              "      <td>15</td>\n",
              "    </tr>\n",
              "  </tbody>\n",
              "</table>\n",
              "</div>"
            ],
            "text/plain": [
              "    A   B   C   D   E\n",
              "0   1   2   3   4   5\n",
              "1   6   7   8   9  10\n",
              "2  11  12  13  14  15"
            ]
          },
          "metadata": {
            "tags": []
          },
          "execution_count": 3
        }
      ]
    },
    {
      "cell_type": "markdown",
      "metadata": {
        "id": "qAjvsqRrsAe8",
        "colab_type": "text"
      },
      "source": [
        "### Algumas funções"
      ]
    },
    {
      "cell_type": "markdown",
      "metadata": {
        "id": "ycrih7YFsAe8",
        "colab_type": "text"
      },
      "source": [
        "* $a$\n",
        "* $x = a^2$\n",
        "* $y = 2a$\n",
        "* $z = log_2(a)$"
      ]
    },
    {
      "cell_type": "code",
      "metadata": {
        "id": "BC3jYgXUsAe9",
        "colab_type": "code",
        "colab": {}
      },
      "source": [
        "a = v\n",
        "\n",
        "x = a ** 2\n",
        "y = 2*a\n",
        "z = np.log2(a)"
      ],
      "execution_count": 0,
      "outputs": []
    },
    {
      "cell_type": "code",
      "metadata": {
        "id": "FFQ-KoSasAe-",
        "colab_type": "code",
        "colab": {},
        "outputId": "32a3dcec-b87d-4921-b470-d10b69832e0f"
      },
      "source": [
        "plt.figure(figsize=(10,5))\n",
        "\n",
        "plt.plot(a, a)\n",
        "plt.plot(a, x)\n",
        "plt.plot(a, y)\n",
        "plt.plot(a, z)\n",
        "\n",
        "plt.legend([\"a\", \"a**2\", \"2*a\", \"log2(a)\"])\n",
        "\n",
        "plt.show()"
      ],
      "execution_count": 0,
      "outputs": [
        {
          "output_type": "display_data",
          "data": {
            "image/png": "[encoded data removed]",
            "text/plain": [
              "<Figure size 720x360 with 1 Axes>"
            ]
          },
          "metadata": {
            "tags": [],
            "needs_background": "light"
          }
        }
      ]
    }
  ]
}