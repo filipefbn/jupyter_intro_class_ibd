{
  "nbformat": 4,
  "nbformat_minor": 0,
  "metadata": {
    "colab": {
      "name": "Exercícios 2.ipynb",
      "provenance": [],
      "collapsed_sections": [],
      "toc_visible": true,
      "include_colab_link": true
    },
    "kernelspec": {
      "display_name": "Python 3",
      "language": "python",
      "name": "python3"
    },
    "language_info": {
      "codemirror_mode": {
        "name": "ipython",
        "version": 3
      },
      "file_extension": ".py",
      "mimetype": "text/x-python",
      "name": "python",
      "nbconvert_exporter": "python",
      "pygments_lexer": "ipython3",
      "version": "3.6.8"
    }
  },
  "cells": [
    {
      "cell_type": "markdown",
      "metadata": {
        "id": "view-in-github",
        "colab_type": "text"
      },
      "source": [
        "<a href=\"https://colab.research.google.com/github/filipefbn/jupyter_intro_class_ibd/blob/master/notebooks/Exerc%C3%ADcios%20parte%202.ipynb\" target=\"_parent\"><img src=\"https://colab.research.google.com/assets/colab-badge.svg\" alt=\"Open In Colab\"/></a>"
      ]
    },
    {
      "cell_type": "code",
      "metadata": {
        "colab_type": "code",
        "id": "T69J2DS2gNwz",
        "colab": {}
      },
      "source": [
        "import io\n",
        "import sqlite3\n",
        "import pandas as pd\n",
        "import matplotlib.pyplot as plt"
      ],
      "execution_count": 0,
      "outputs": []
    },
    {
      "cell_type": "markdown",
      "metadata": {
        "colab_type": "text",
        "id": "t1qoD0jyiXeZ"
      },
      "source": [
        "## Exercícios"
      ]
    },
    {
      "cell_type": "markdown",
      "metadata": {
        "colab_type": "text",
        "id": "qepRTEmHlnkP"
      },
      "source": [
        "Neste exercício, vamos trabalhar com dados de uma empresa fictícia de consultoria denominada **IBD**.\n",
        "\n",
        "**Considere o seguinte esquema relacional:**\n",
        "\n",
        "![alt text](https://raw.githubusercontent.com/filipefbn/jupyter_intro_class_ibd/master/data/schemaexercicio.png)\n",
        "\n",
        "Nenhum atributo admite valor nulo.\n",
        "\n",
        "Apenas as seguintes chaves primárias são numéricas: `Cliente.CodCli`, `Consultor.CPF`\n"
      ]
    },
    {
      "cell_type": "markdown",
      "metadata": {
        "id": "kXFG4HtowjDG",
        "colab_type": "text"
      },
      "source": [
        "### Download dos dados da empresa"
      ]
    },
    {
      "cell_type": "code",
      "metadata": {
        "id": "RYGTNTUPIWTs",
        "colab_type": "code",
        "colab": {}
      },
      "source": [
        "!wget --quiet -P /tmp/ https://raw.githubusercontent.com/filipefbn/jupyter_intro_class_ibd/master/data/exercicio.sql"
      ],
      "execution_count": 0,
      "outputs": []
    },
    {
      "cell_type": "markdown",
      "metadata": {
        "id": "x-oKUUU5w0Su",
        "colab_type": "text"
      },
      "source": [
        "### Carregando os dados"
      ]
    },
    {
      "cell_type": "code",
      "metadata": {
        "colab_type": "code",
        "id": "6WhLdsdBmNc7",
        "colab": {}
      },
      "source": [
        "conn = sqlite3.connect('/tmp/consult.db')\n",
        "cursor = conn.cursor()"
      ],
      "execution_count": 0,
      "outputs": []
    },
    {
      "cell_type": "code",
      "metadata": {
        "id": "XAGSnZw8FCeV",
        "colab_type": "code",
        "outputId": "ce1a7557-0dbf-4d13-cac4-baf5a0cdbeaa",
        "colab": {
          "base_uri": "https://localhost:8080/",
          "height": 35
        }
      },
      "source": [
        "f = io.open('/tmp/exercicio.sql', 'r', encoding='utf-8')\n",
        "sql = f.read()\n",
        "cursor.executescript(sql)"
      ],
      "execution_count": 0,
      "outputs": [
        {
          "output_type": "execute_result",
          "data": {
            "text/plain": [
              "<sqlite3.Cursor at 0x7f47c08c8c70>"
            ]
          },
          "metadata": {
            "tags": []
          },
          "execution_count": 106
        }
      ]
    },
    {
      "cell_type": "markdown",
      "metadata": {
        "id": "oVFJ2N2pwjDP",
        "colab_type": "text"
      },
      "source": [
        "## Consultas"
      ]
    },
    {
      "cell_type": "markdown",
      "metadata": {
        "colab_type": "text",
        "id": "pAsrM_GlXU5e"
      },
      "source": [
        "### 1. Que consultores (CPF, nome e estado de nascimento) não nasceram em São Paulo (SP)?\n"
      ]
    },
    {
      "cell_type": "code",
      "metadata": {
        "colab_type": "code",
        "id": "lAA15P8-cbwx",
        "colab": {}
      },
      "source": [
        ""
      ],
      "execution_count": 0,
      "outputs": []
    },
    {
      "cell_type": "markdown",
      "metadata": {
        "id": "9Ma0HxOmwjDV",
        "colab_type": "text"
      },
      "source": [
        "### 2. Que projetos (sigla e nome) não são do cliente \"Facebook\"?\n"
      ]
    },
    {
      "cell_type": "code",
      "metadata": {
        "colab_type": "code",
        "id": "rdWKsj5iMkQO",
        "colab": {}
      },
      "source": [
        ""
      ],
      "execution_count": 0,
      "outputs": []
    },
    {
      "cell_type": "markdown",
      "metadata": {
        "id": "3VIRdovqwjDY",
        "colab_type": "text"
      },
      "source": [
        "### 3. Para que UFs viajaram os consultores que participam do projeto de sigla \"RecSys\"?"
      ]
    },
    {
      "cell_type": "code",
      "metadata": {
        "id": "J26cCsOawjDZ",
        "colab_type": "code",
        "colab": {}
      },
      "source": [
        ""
      ],
      "execution_count": 0,
      "outputs": []
    },
    {
      "cell_type": "markdown",
      "metadata": {
        "id": "AwguIkD0wjDQ",
        "colab_type": "text"
      },
      "source": [
        "### 4. Que projetos (sigla e nome) não têm equipe?"
      ]
    },
    {
      "cell_type": "code",
      "metadata": {
        "id": "lodPlGRM2iu4",
        "colab_type": "code",
        "colab": {}
      },
      "source": [
        ""
      ],
      "execution_count": 0,
      "outputs": []
    },
    {
      "cell_type": "markdown",
      "metadata": {
        "id": "_OS_GmxFwjDT",
        "colab_type": "text"
      },
      "source": [
        "### 5. Que projetos (sigla e nome) não têm em sua equipe consultores nascidos antes de 1987?"
      ]
    },
    {
      "cell_type": "code",
      "metadata": {
        "id": "E5CkjVHpwjDT",
        "colab_type": "code",
        "colab": {}
      },
      "source": [
        ""
      ],
      "execution_count": 0,
      "outputs": []
    },
    {
      "cell_type": "markdown",
      "metadata": {
        "id": "IH6jWfwKwjDd",
        "colab_type": "text"
      },
      "source": [
        "### 6. Que consultores (CPF e nome) viajaram por seu estado natal (origem ou destino)?\n"
      ]
    },
    {
      "cell_type": "code",
      "metadata": {
        "colab_type": "code",
        "id": "gemDJY3tmSKr",
        "colab": {}
      },
      "source": [
        ""
      ],
      "execution_count": 0,
      "outputs": []
    },
    {
      "cell_type": "markdown",
      "metadata": {
        "id": "8TIDTEtkXR_X",
        "colab_type": "text"
      },
      "source": [
        "### 7. Para que locais não houve nenhuma viagem?"
      ]
    },
    {
      "cell_type": "code",
      "metadata": {
        "id": "gcNKykMPXTIP",
        "colab_type": "code",
        "colab": {}
      },
      "source": [
        ""
      ],
      "execution_count": 0,
      "outputs": []
    },
    {
      "cell_type": "markdown",
      "metadata": {
        "colab_type": "text",
        "id": "oZwCdnuRXVGJ"
      },
      "source": [
        "### 8. Em que projetos (sigla e nome) foram realizadas viagens para a California (CA) desde o início de 2019?\n",
        "OBS: Como o banco foi populado usando a função [`datetime`](https://www.sqlite.org/lang_datefunc.html) do SQLite para as datas, podemos usar DataViagem > '2019' com o `WHERE` (ver link para mais informações)."
      ]
    },
    {
      "cell_type": "code",
      "metadata": {
        "id": "qtcubREji-R1",
        "colab_type": "code",
        "colab": {}
      },
      "source": [
        ""
      ],
      "execution_count": 0,
      "outputs": []
    },
    {
      "cell_type": "markdown",
      "metadata": {
        "colab_type": "text",
        "id": "VeEn3GnMXV5v"
      },
      "source": [
        "### 9. Que consultores (CPF e nome) viajaram por um projeto de cuja equipe não fazem parte?\n",
        "OBS: Apesar de não intuitivo, isso é possível, pois no nosso schema temos que Viagem.CPF 🡪 Consultor.CPF e Viagem.Sigla 🡪 Projeto.Sigla."
      ]
    },
    {
      "cell_type": "code",
      "metadata": {
        "id": "hT5bTU4blnc5",
        "colab_type": "code",
        "colab": {}
      },
      "source": [
        ""
      ],
      "execution_count": 0,
      "outputs": []
    },
    {
      "cell_type": "markdown",
      "metadata": {
        "colab_type": "text",
        "id": "oixXoT4tXVBQ"
      },
      "source": [
        "### 10. Que consultores (CPF e nome) não estão em nenhuma equipe de projeto que tenha iniciado em 2019?\n"
      ]
    },
    {
      "cell_type": "code",
      "metadata": {
        "id": "iyXKmzHCf9n_",
        "colab_type": "code",
        "colab": {}
      },
      "source": [
        ""
      ],
      "execution_count": 0,
      "outputs": []
    }
  ]
}